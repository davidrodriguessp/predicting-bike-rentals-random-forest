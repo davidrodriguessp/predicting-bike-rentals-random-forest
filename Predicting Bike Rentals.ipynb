{
 "cells": [
  {
   "cell_type": "markdown",
   "metadata": {},
   "source": [
    "Author: David Rodrigues | davidrodriguessp@hotmail.com | https://github.com/davidrodriguessp | https://www.linkedin.com/in/davidrodrigues/ <br>\n",
    "*November 2021*\n",
    "\n",
    "![bike image](https://images.unsplash.com/photo-1471506480208-91b3a4cc78be?ixid=MnwxMjA3fDB8MHxwaG90by1wYWdlfHx8fGVufDB8fHx8&ixlib=rb-1.2.1&auto=format&fit=crop&w=874&q=80)\n",
    "\n",
    "# Predicting Bike Rentals with Different Machine Learning Algorithms\n",
    "\n",
    "The objective of this project is to build a model to predict the number of bikes rented in a specific hour, based on a series of features. We compared results from models using Linear Regression, Decision Tree and Random Forest.\n",
    "\n",
    "The data analyzed contains 17,380 rows. Each row represents the number of bike rentals for a single hour in a specific day. The dataset can be downloaded on the [University of California, Irvine's website](http://archive.ics.uci.edu/ml/datasets/Bike+Sharing+Dataset). The file we worked with is `hour.csv`.\n",
    "\n",
    "[Here](http://archive.ics.uci.edu/ml/datasets/Bike+Sharing+Dataset) you can find a detailed description of the columns. `cnt` (count of total rental bikes) is the target variable we want to predict.\n",
    "\n",
    "Comparing the results of multiple models, Random Forest was the algorithm which provided the best accuracy.\n",
    "\n",
    "# Reading and Exploring the Data"
   ]
  },
  {
   "cell_type": "code",
   "execution_count": 1,
   "metadata": {},
   "outputs": [],
   "source": [
    "# Read the dataset into a pandas dataframe\n",
    "import pandas as pd\n",
    "bike = pd.read_csv('hour.csv')"
   ]
  },
  {
   "cell_type": "code",
   "execution_count": 2,
   "metadata": {},
   "outputs": [
    {
     "data": {
      "text/html": [
       "<div>\n",
       "<style scoped>\n",
       "    .dataframe tbody tr th:only-of-type {\n",
       "        vertical-align: middle;\n",
       "    }\n",
       "\n",
       "    .dataframe tbody tr th {\n",
       "        vertical-align: top;\n",
       "    }\n",
       "\n",
       "    .dataframe thead th {\n",
       "        text-align: right;\n",
       "    }\n",
       "</style>\n",
       "<table border=\"1\" class=\"dataframe\">\n",
       "  <thead>\n",
       "    <tr style=\"text-align: right;\">\n",
       "      <th></th>\n",
       "      <th>instant</th>\n",
       "      <th>dteday</th>\n",
       "      <th>season</th>\n",
       "      <th>yr</th>\n",
       "      <th>mnth</th>\n",
       "      <th>hr</th>\n",
       "      <th>holiday</th>\n",
       "      <th>weekday</th>\n",
       "      <th>workingday</th>\n",
       "      <th>weathersit</th>\n",
       "      <th>temp</th>\n",
       "      <th>atemp</th>\n",
       "      <th>hum</th>\n",
       "      <th>windspeed</th>\n",
       "      <th>casual</th>\n",
       "      <th>registered</th>\n",
       "      <th>cnt</th>\n",
       "    </tr>\n",
       "  </thead>\n",
       "  <tbody>\n",
       "    <tr>\n",
       "      <th>0</th>\n",
       "      <td>1</td>\n",
       "      <td>2011-01-01</td>\n",
       "      <td>1</td>\n",
       "      <td>0</td>\n",
       "      <td>1</td>\n",
       "      <td>0</td>\n",
       "      <td>0</td>\n",
       "      <td>6</td>\n",
       "      <td>0</td>\n",
       "      <td>1</td>\n",
       "      <td>0.24</td>\n",
       "      <td>0.2879</td>\n",
       "      <td>0.81</td>\n",
       "      <td>0.0</td>\n",
       "      <td>3</td>\n",
       "      <td>13</td>\n",
       "      <td>16</td>\n",
       "    </tr>\n",
       "    <tr>\n",
       "      <th>1</th>\n",
       "      <td>2</td>\n",
       "      <td>2011-01-01</td>\n",
       "      <td>1</td>\n",
       "      <td>0</td>\n",
       "      <td>1</td>\n",
       "      <td>1</td>\n",
       "      <td>0</td>\n",
       "      <td>6</td>\n",
       "      <td>0</td>\n",
       "      <td>1</td>\n",
       "      <td>0.22</td>\n",
       "      <td>0.2727</td>\n",
       "      <td>0.80</td>\n",
       "      <td>0.0</td>\n",
       "      <td>8</td>\n",
       "      <td>32</td>\n",
       "      <td>40</td>\n",
       "    </tr>\n",
       "    <tr>\n",
       "      <th>2</th>\n",
       "      <td>3</td>\n",
       "      <td>2011-01-01</td>\n",
       "      <td>1</td>\n",
       "      <td>0</td>\n",
       "      <td>1</td>\n",
       "      <td>2</td>\n",
       "      <td>0</td>\n",
       "      <td>6</td>\n",
       "      <td>0</td>\n",
       "      <td>1</td>\n",
       "      <td>0.22</td>\n",
       "      <td>0.2727</td>\n",
       "      <td>0.80</td>\n",
       "      <td>0.0</td>\n",
       "      <td>5</td>\n",
       "      <td>27</td>\n",
       "      <td>32</td>\n",
       "    </tr>\n",
       "    <tr>\n",
       "      <th>3</th>\n",
       "      <td>4</td>\n",
       "      <td>2011-01-01</td>\n",
       "      <td>1</td>\n",
       "      <td>0</td>\n",
       "      <td>1</td>\n",
       "      <td>3</td>\n",
       "      <td>0</td>\n",
       "      <td>6</td>\n",
       "      <td>0</td>\n",
       "      <td>1</td>\n",
       "      <td>0.24</td>\n",
       "      <td>0.2879</td>\n",
       "      <td>0.75</td>\n",
       "      <td>0.0</td>\n",
       "      <td>3</td>\n",
       "      <td>10</td>\n",
       "      <td>13</td>\n",
       "    </tr>\n",
       "    <tr>\n",
       "      <th>4</th>\n",
       "      <td>5</td>\n",
       "      <td>2011-01-01</td>\n",
       "      <td>1</td>\n",
       "      <td>0</td>\n",
       "      <td>1</td>\n",
       "      <td>4</td>\n",
       "      <td>0</td>\n",
       "      <td>6</td>\n",
       "      <td>0</td>\n",
       "      <td>1</td>\n",
       "      <td>0.24</td>\n",
       "      <td>0.2879</td>\n",
       "      <td>0.75</td>\n",
       "      <td>0.0</td>\n",
       "      <td>0</td>\n",
       "      <td>1</td>\n",
       "      <td>1</td>\n",
       "    </tr>\n",
       "  </tbody>\n",
       "</table>\n",
       "</div>"
      ],
      "text/plain": [
       "   instant      dteday  season  yr  mnth  hr  holiday  weekday  workingday  \\\n",
       "0        1  2011-01-01       1   0     1   0        0        6           0   \n",
       "1        2  2011-01-01       1   0     1   1        0        6           0   \n",
       "2        3  2011-01-01       1   0     1   2        0        6           0   \n",
       "3        4  2011-01-01       1   0     1   3        0        6           0   \n",
       "4        5  2011-01-01       1   0     1   4        0        6           0   \n",
       "\n",
       "   weathersit  temp   atemp   hum  windspeed  casual  registered  cnt  \n",
       "0           1  0.24  0.2879  0.81        0.0       3          13   16  \n",
       "1           1  0.22  0.2727  0.80        0.0       8          32   40  \n",
       "2           1  0.22  0.2727  0.80        0.0       5          27   32  \n",
       "3           1  0.24  0.2879  0.75        0.0       3          10   13  \n",
       "4           1  0.24  0.2879  0.75        0.0       0           1    1  "
      ]
     },
     "execution_count": 2,
     "metadata": {},
     "output_type": "execute_result"
    }
   ],
   "source": [
    "# Display the first five rows\n",
    "bike.head()"
   ]
  },
  {
   "cell_type": "code",
   "execution_count": 3,
   "metadata": {},
   "outputs": [
    {
     "data": {
      "image/png": "[encoded data removed]",
      "text/plain": [
       "<Figure size 720x360 with 1 Axes>"
      ]
     },
     "metadata": {
      "needs_background": "light"
     },
     "output_type": "display_data"
    }
   ],
   "source": [
    "# Display a histogram of cnt with the number of bike rentals\n",
    "%matplotlib inline\n",
    "import matplotlib.pyplot as plt\n",
    "plt.figure(figsize=(10,5))\n",
    "plt.hist(bike['cnt'])\n",
    "plt.show()"
   ]
  },
  {
   "cell_type": "markdown",
   "metadata": {},
   "source": [
    "As we can observe in the histogram, the data is right skewed. Most values show a considerably low number of rentals, less than 400 bikes per hour.\n",
    "\n",
    "## Check for Correlation Among the Numeric Variables"
   ]
  },
  {
   "cell_type": "code",
   "execution_count": 4,
   "metadata": {
    "scrolled": true
   },
   "outputs": [
    {
     "data": {
      "text/html": [
       "<div>\n",
       "<style scoped>\n",
       "    .dataframe tbody tr th:only-of-type {\n",
       "        vertical-align: middle;\n",
       "    }\n",
       "\n",
       "    .dataframe tbody tr th {\n",
       "        vertical-align: top;\n",
       "    }\n",
       "\n",
       "    .dataframe thead th {\n",
       "        text-align: right;\n",
       "    }\n",
       "</style>\n",
       "<table border=\"1\" class=\"dataframe\">\n",
       "  <thead>\n",
       "    <tr style=\"text-align: right;\">\n",
       "      <th></th>\n",
       "      <th>temp</th>\n",
       "      <th>atemp</th>\n",
       "      <th>hum</th>\n",
       "      <th>windspeed</th>\n",
       "      <th>cnt</th>\n",
       "    </tr>\n",
       "  </thead>\n",
       "  <tbody>\n",
       "    <tr>\n",
       "      <th>temp</th>\n",
       "      <td>1.000000</td>\n",
       "      <td>0.987672</td>\n",
       "      <td>-0.069881</td>\n",
       "      <td>-0.023125</td>\n",
       "      <td>0.404772</td>\n",
       "    </tr>\n",
       "    <tr>\n",
       "      <th>atemp</th>\n",
       "      <td>0.987672</td>\n",
       "      <td>1.000000</td>\n",
       "      <td>-0.051918</td>\n",
       "      <td>-0.062336</td>\n",
       "      <td>0.400929</td>\n",
       "    </tr>\n",
       "    <tr>\n",
       "      <th>hum</th>\n",
       "      <td>-0.069881</td>\n",
       "      <td>-0.051918</td>\n",
       "      <td>1.000000</td>\n",
       "      <td>-0.290105</td>\n",
       "      <td>-0.322911</td>\n",
       "    </tr>\n",
       "    <tr>\n",
       "      <th>windspeed</th>\n",
       "      <td>-0.023125</td>\n",
       "      <td>-0.062336</td>\n",
       "      <td>-0.290105</td>\n",
       "      <td>1.000000</td>\n",
       "      <td>0.093234</td>\n",
       "    </tr>\n",
       "    <tr>\n",
       "      <th>cnt</th>\n",
       "      <td>0.404772</td>\n",
       "      <td>0.400929</td>\n",
       "      <td>-0.322911</td>\n",
       "      <td>0.093234</td>\n",
       "      <td>1.000000</td>\n",
       "    </tr>\n",
       "  </tbody>\n",
       "</table>\n",
       "</div>"
      ],
      "text/plain": [
       "               temp     atemp       hum  windspeed       cnt\n",
       "temp       1.000000  0.987672 -0.069881  -0.023125  0.404772\n",
       "atemp      0.987672  1.000000 -0.051918  -0.062336  0.400929\n",
       "hum       -0.069881 -0.051918  1.000000  -0.290105 -0.322911\n",
       "windspeed -0.023125 -0.062336 -0.290105   1.000000  0.093234\n",
       "cnt        0.404772  0.400929 -0.322911   0.093234  1.000000"
      ]
     },
     "execution_count": 4,
     "metadata": {},
     "output_type": "execute_result"
    }
   ],
   "source": [
    "# Show correlation between the features and cnt\n",
    "numeric_columns = ['temp', 'atemp', 'hum', 'windspeed', 'cnt']\n",
    "bike[numeric_columns].corr()"
   ]
  },
  {
   "cell_type": "markdown",
   "metadata": {},
   "source": [
    "Looking at correlations, `temp` and `atemp` are highly correlated. We will drop `atemp` since its correlation with the target column `cnt` is lower.\n",
    "\n",
    "When we look at how the columns are correlated with `cnt`, `temp` and `hum` show a stronger relation with the target column, while the correlation with `windspeed` is smaller.\n",
    "\n",
    "# Accuracy Metric\n",
    "\n",
    "The metric chosen was RMSE - Root Mean Squared error:\n",
    "- It is adequate to regression problems, in which a numeric value is predicted\n",
    "- The error metric is measured in the same unit as the target variable, what makes interpretation easier\n",
    "- RMSE tends to penalize large errors, making the metric less prone to high variations\n",
    "\n",
    "# Data Preparation\n",
    "Below we create the function `transform`. With this function, we apply a series of operations to clean the dataset and convert the columns to a format fit for modeling.\n",
    "\n",
    "The operations performed with the `transform` function:\n",
    "- Drop columns that are irrelevant for the model we want to build\n",
    "- Transform the variable `hr` converting it into 4 categories (early morning, morning, afternoon, night)\n",
    "- Convert all categorical columns into dummy variables\n",
    "- Drop columns that are highly correlated with other features"
   ]
  },
  {
   "cell_type": "code",
   "execution_count": 5,
   "metadata": {},
   "outputs": [],
   "source": [
    "# Create a function transform to pre-process our dataset\n",
    "def transform(df):\n",
    "    \n",
    "    # Create a copy of the datafram\n",
    "    new = df.copy()\n",
    "    \n",
    "    # Remove unimportant columns\n",
    "    new = new.drop(['instant', 'dteday', 'atemp', 'casual', 'registered'], axis=1)\n",
    "\n",
    "    # Create a new column based on hr, returning 4 periods of the day: 6-12, 13-18, 19-23, 0-5\n",
    "    def convert_hour(x):\n",
    "        if 6 <= x <=12:\n",
    "            return 1\n",
    "        elif 13 <= x <=18:\n",
    "            return 2\n",
    "        elif 19 <= x <=23:\n",
    "            return 3\n",
    "        elif 0 <= x <=5:\n",
    "            return 4\n",
    "    \n",
    "    new['time_label'] = new['hr'].apply(convert_hour)  \n",
    "    \n",
    "    # Remove hr column\n",
    "    new = new.drop('hr', axis=1)\n",
    "\n",
    "    # Convert categorical columns into dummies\n",
    "    cat_cols = ['season', 'mnth', 'weekday', 'weathersit', 'time_label']\n",
    "    for cat in cat_cols:\n",
    "        dummy = pd.get_dummies(new[cat], prefix=cat, drop_first=True)\n",
    "        new = pd.concat([new, dummy], axis=1)\n",
    "        new.drop(cat, axis=1, inplace=True)\n",
    "    \n",
    "    return new"
   ]
  },
  {
   "cell_type": "markdown",
   "metadata": {},
   "source": [
    "## Checking for Missing Values and Data Types"
   ]
  },
  {
   "cell_type": "code",
   "execution_count": 6,
   "metadata": {
    "scrolled": true
   },
   "outputs": [
    {
     "name": "stdout",
     "output_type": "stream",
     "text": [
      "<class 'pandas.core.frame.DataFrame'>\n",
      "RangeIndex: 17379 entries, 0 to 17378\n",
      "Data columns (total 33 columns):\n",
      "yr              17379 non-null int64\n",
      "holiday         17379 non-null int64\n",
      "workingday      17379 non-null int64\n",
      "temp            17379 non-null float64\n",
      "hum             17379 non-null float64\n",
      "windspeed       17379 non-null float64\n",
      "cnt             17379 non-null int64\n",
      "season_2        17379 non-null uint8\n",
      "season_3        17379 non-null uint8\n",
      "season_4        17379 non-null uint8\n",
      "mnth_2          17379 non-null uint8\n",
      "mnth_3          17379 non-null uint8\n",
      "mnth_4          17379 non-null uint8\n",
      "mnth_5          17379 non-null uint8\n",
      "mnth_6          17379 non-null uint8\n",
      "mnth_7          17379 non-null uint8\n",
      "mnth_8          17379 non-null uint8\n",
      "mnth_9          17379 non-null uint8\n",
      "mnth_10         17379 non-null uint8\n",
      "mnth_11         17379 non-null uint8\n",
      "mnth_12         17379 non-null uint8\n",
      "weekday_1       17379 non-null uint8\n",
      "weekday_2       17379 non-null uint8\n",
      "weekday_3       17379 non-null uint8\n",
      "weekday_4       17379 non-null uint8\n",
      "weekday_5       17379 non-null uint8\n",
      "weekday_6       17379 non-null uint8\n",
      "weathersit_2    17379 non-null uint8\n",
      "weathersit_3    17379 non-null uint8\n",
      "weathersit_4    17379 non-null uint8\n",
      "time_label_2    17379 non-null uint8\n",
      "time_label_3    17379 non-null uint8\n",
      "time_label_4    17379 non-null uint8\n",
      "dtypes: float64(3), int64(4), uint8(26)\n",
      "memory usage: 1.4 MB\n"
     ]
    }
   ],
   "source": [
    "# Verify missing values and data types after transformation\n",
    "transform(bike).info()"
   ]
  },
  {
   "cell_type": "markdown",
   "metadata": {},
   "source": [
    "As we can see above, after applying the function `transform`:\n",
    "- There are no missing values\n",
    "- All columns are numeric\n",
    "- All categorical columns were converted into dummy variables.\n",
    "\n",
    "# Spliting the Sample in Train and Test Sets\n",
    "Next, we use our `transform` function to preprocess the `bike` dataset and split the data into train and test."
   ]
  },
  {
   "cell_type": "code",
   "execution_count": 7,
   "metadata": {},
   "outputs": [],
   "source": [
    "# Create the training set with 80% of the dataset and test with 20%\n",
    "train = transform(bike).sample(frac=0.8, replace=False, random_state=42)\n",
    "test = transform(bike)[transform(bike).index.isin(train.index) == False]"
   ]
  },
  {
   "cell_type": "markdown",
   "metadata": {},
   "source": [
    "## Spliting the Data into Features and Target for Modeling"
   ]
  },
  {
   "cell_type": "code",
   "execution_count": 8,
   "metadata": {},
   "outputs": [],
   "source": [
    "# Spliting the data into target and features\n",
    "X_train = train.drop('cnt', axis=1)\n",
    "X_test = test.drop('cnt', axis=1)\n",
    "y_train = train['cnt']\n",
    "y_test = test['cnt']"
   ]
  },
  {
   "cell_type": "markdown",
   "metadata": {},
   "source": [
    "# Linear Regression Modeling\n",
    "Now that the data is ready, let's run our first model."
   ]
  },
  {
   "cell_type": "code",
   "execution_count": 9,
   "metadata": {
    "scrolled": true
   },
   "outputs": [
    {
     "name": "stdout",
     "output_type": "stream",
     "text": [
      "Linear Regression RMSE:  125.0\n"
     ]
    }
   ],
   "source": [
    "# Fit a linear regression model on the training set\n",
    "from sklearn.linear_model import LinearRegression\n",
    "lr = LinearRegression().fit(X_train, y_train)\n",
    "\n",
    "# Create predictions on the test set\n",
    "pred_lr = lr.predict(X_test)\n",
    "\n",
    "#Calculate RMSE for the predictions on the test set\n",
    "import numpy as np\n",
    "from sklearn.metrics import mean_squared_error\n",
    "rmse = np.sqrt(mean_squared_error(test['cnt'], pred_lr))\n",
    "print('Linear Regression RMSE: ', np.round(rmse))"
   ]
  },
  {
   "cell_type": "markdown",
   "metadata": {},
   "source": [
    "The Linear Regression model is associated with a considerably high error. Let's see if using a Decision Tree improves results."
   ]
  },
  {
   "cell_type": "markdown",
   "metadata": {},
   "source": [
    "# Decision Tree Modeling"
   ]
  },
  {
   "cell_type": "code",
   "execution_count": 10,
   "metadata": {},
   "outputs": [
    {
     "name": "stdout",
     "output_type": "stream",
     "text": [
      "Decision Tree RMSE:  120.0\n"
     ]
    }
   ],
   "source": [
    "from sklearn.tree import DecisionTreeRegressor\n",
    "dt = DecisionTreeRegressor(max_depth=12, min_samples_leaf=2, random_state=42).fit(X_train, y_train)\n",
    "pred_dt = dt.predict(X_test)\n",
    "rmse_dt = np.sqrt(mean_squared_error(test['cnt'], pred_dt))\n",
    "print('Decision Tree RMSE: ', np.round(rmse_dt))"
   ]
  },
  {
   "cell_type": "markdown",
   "metadata": {},
   "source": [
    "The Decision Tree has a slightly lower error if compared to the Linear Regression. Let's see if the Random Forest manages to improve results.\n",
    "\n",
    "# Random Forest Modeling"
   ]
  },
  {
   "cell_type": "code",
   "execution_count": 11,
   "metadata": {},
   "outputs": [
    {
     "name": "stdout",
     "output_type": "stream",
     "text": [
      "Random Forest RMSE:  109.0\n"
     ]
    }
   ],
   "source": [
    "from sklearn.ensemble import RandomForestRegressor\n",
    "rf = RandomForestRegressor(n_estimators=50, max_depth=12, min_samples_leaf=2, max_features=15,\n",
    "                           random_state=42).fit(X_train, y_train)\n",
    "pred_rf = rf.predict(X_test)\n",
    "rmse_rf = np.sqrt(mean_squared_error(test['cnt'], pred_rf))\n",
    "print('Random Forest RMSE: ', np.round(rmse_rf))"
   ]
  },
  {
   "cell_type": "markdown",
   "metadata": {},
   "source": [
    "Finally, results are even better with the Random Forest. With this model, we managed to improve results substantially if compared to the one obtained with the Linear Regression.\n",
    "\n",
    "Author: David Rodrigues | davidrodriguessp@hotmail.com | https://github.com/davidrodriguessp | https://www.linkedin.com/in/davidrodrigues/ <br> *November 2021*"
   ]
  }
 ],
 "metadata": {
  "kernelspec": {
   "display_name": "Python 3",
   "language": "python",
   "name": "python3"
  },
  "language_info": {
   "codemirror_mode": {
    "name": "ipython",
    "version": 3
   },
   "file_extension": ".py",
   "mimetype": "text/x-python",
   "name": "python",
   "nbconvert_exporter": "python",
   "pygments_lexer": "ipython3",
   "version": "3.7.3"
  }
 },
 "nbformat": 4,
 "nbformat_minor": 2
}
